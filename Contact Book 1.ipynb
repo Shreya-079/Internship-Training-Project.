{
 "cells": [
  {
   "cell_type": "code",
   "execution_count": null,
   "id": "efff7971-6384-49da-8224-733701af9b5e",
   "metadata": {},
   "outputs": [
    {
     "name": "stdout",
     "output_type": "stream",
     "text": [
      "\n",
      "===== Contact Book Menu =====\n",
      "1. Add Contact\n",
      "2. View Contact\n",
      "3. List All Contacts\n",
      "4. Search Contact\n",
      "5. Update Contact\n",
      "6. Delete Contact\n",
      "7. Exit\n"
     ]
    },
    {
     "name": "stdin",
     "output_type": "stream",
     "text": [
      "Enter your choice (1-7):  3\n"
     ]
    },
    {
     "name": "stdout",
     "output_type": "stream",
     "text": [
      "Contacts List is empty.\n",
      "\n",
      "===== Contact Book Menu =====\n",
      "1. Add Contact\n",
      "2. View Contact\n",
      "3. List All Contacts\n",
      "4. Search Contact\n",
      "5. Update Contact\n",
      "6. Delete Contact\n",
      "7. Exit\n"
     ]
    },
    {
     "name": "stdin",
     "output_type": "stream",
     "text": [
      "Enter your choice (1-7):  1\n",
      "Enter name:  shaily\n",
      "Enter phone number:  8299535159\n"
     ]
    },
    {
     "name": "stdout",
     "output_type": "stream",
     "text": [
      "Contact shaily added successfully.\n",
      "\n",
      "===== Contact Book Menu =====\n",
      "1. Add Contact\n",
      "2. View Contact\n",
      "3. List All Contacts\n",
      "4. Search Contact\n",
      "5. Update Contact\n",
      "6. Delete Contact\n",
      "7. Exit\n"
     ]
    },
    {
     "name": "stdin",
     "output_type": "stream",
     "text": [
      "Enter your choice (1-7):  arya\n"
     ]
    },
    {
     "name": "stdout",
     "output_type": "stream",
     "text": [
      "Invalid choice. Please enter a number from 1 to 7.\n",
      "\n",
      "===== Contact Book Menu =====\n",
      "1. Add Contact\n",
      "2. View Contact\n",
      "3. List All Contacts\n",
      "4. Search Contact\n",
      "5. Update Contact\n",
      "6. Delete Contact\n",
      "7. Exit\n"
     ]
    },
    {
     "name": "stdin",
     "output_type": "stream",
     "text": [
      "Enter your choice (1-7):  1\n",
      "Enter name:  arya\n",
      "Enter phone number:  5687648865\n"
     ]
    },
    {
     "name": "stdout",
     "output_type": "stream",
     "text": [
      "Contact arya added successfully.\n",
      "\n",
      "===== Contact Book Menu =====\n",
      "1. Add Contact\n",
      "2. View Contact\n",
      "3. List All Contacts\n",
      "4. Search Contact\n",
      "5. Update Contact\n",
      "6. Delete Contact\n",
      "7. Exit\n"
     ]
    },
    {
     "name": "stdin",
     "output_type": "stream",
     "text": [
      "Enter your choice (1-7):  6\n",
      "Enter name to delete:  shaily\n"
     ]
    },
    {
     "name": "stdout",
     "output_type": "stream",
     "text": [
      "Contact shaily deleted successfully.\n",
      "\n",
      "===== Contact Book Menu =====\n",
      "1. Add Contact\n",
      "2. View Contact\n",
      "3. List All Contacts\n",
      "4. Search Contact\n",
      "5. Update Contact\n",
      "6. Delete Contact\n",
      "7. Exit\n"
     ]
    },
    {
     "name": "stdin",
     "output_type": "stream",
     "text": [
      "Enter your choice (1-7):  3\n"
     ]
    },
    {
     "name": "stdout",
     "output_type": "stream",
     "text": [
      "Contacts List:\n",
      "Name: arya, Phone Number: 5687648865\n",
      "\n",
      "===== Contact Book Menu =====\n",
      "1. Add Contact\n",
      "2. View Contact\n",
      "3. List All Contacts\n",
      "4. Search Contact\n",
      "5. Update Contact\n",
      "6. Delete Contact\n",
      "7. Exit\n"
     ]
    }
   ],
   "source": [
    "# Contact Book with User Interface\n",
    "\n",
    "class ContactBook:\n",
    "    def __init__(self):\n",
    "        self.contacts = {}\n",
    "\n",
    "    def add_contact(self, name, phone_number):\n",
    "        if name in self.contacts:\n",
    "            print(f'{name} is already in contacts.')\n",
    "        else:\n",
    "            self.contacts[name] = phone_number\n",
    "            print(f'Contact {name} added successfully.')\n",
    "\n",
    "    def view_contact(self, name):\n",
    "        if name in self.contacts:\n",
    "            print(f'Name: {name}, Phone Number: {self.contacts[name]}')\n",
    "        else:\n",
    "            print(f'{name} not found in contacts.')\n",
    "\n",
    "    def list_contacts(self):\n",
    "        if self.contacts:\n",
    "            print('Contacts List:')\n",
    "            for name, number in self.contacts.items():\n",
    "                print(f'Name: {name}, Phone Number: {number}')\n",
    "        else:\n",
    "            print('Contacts List is empty.')\n",
    "\n",
    "    def search_contact(self, name):\n",
    "        if name in self.contacts:\n",
    "            print(f'Name: {name}, Phone Number: {self.contacts[name]}')\n",
    "        else:\n",
    "            print(f'{name} not found in contacts.')\n",
    "\n",
    "    def update_contact(self, name, new_phone_number):\n",
    "        if name in self.contacts:\n",
    "            self.contacts[name] = new_phone_number\n",
    "            print(f'Contact {name} updated successfully.')\n",
    "        else:\n",
    "            print(f'{name} not found in contacts.')\n",
    "\n",
    "    def delete_contact(self, name):\n",
    "        if name in self.contacts:\n",
    "            del self.contacts[name]\n",
    "            print(f'Contact {name} deleted successfully.')\n",
    "        else:\n",
    "            print(f'{name} not found in contacts.')\n",
    "\n",
    "def main():\n",
    "    contact_book = ContactBook()\n",
    "    while True:\n",
    "        print(\"\\n Contact Book Menu \")\n",
    "        print(\"1. Add Contact\")\n",
    "        print(\"2. View Contact\")\n",
    "        print(\"3. List All Contacts\")\n",
    "        print(\"4. Search Contact\")\n",
    "        print(\"5. Update Contact\")\n",
    "        print(\"6. Delete Contact\")\n",
    "        print(\"7. Exit\")\n",
    "\n",
    "        choice = input(\"Enter choice (1-7): \")\n",
    "\n",
    "        if choice == '1':\n",
    "            name = input(\"Enter name: \")\n",
    "            phone_number = input(\"Enter phone number: \")\n",
    "            contact_book.add_contact(name, phone_number)\n",
    "\n",
    "        elif choice == '2':\n",
    "            name = input(\"Enter name to view: \")\n",
    "            contact_book.view_contact(name)\n",
    "\n",
    "        elif choice == '3':\n",
    "            contact_book.list_contacts()\n",
    "\n",
    "        elif choice == '4':\n",
    "            name = input(\"Enter name to search: \")\n",
    "            contact_book.search_contact(name)\n",
    "\n",
    "        elif choice == '5':\n",
    "            name = input(\"Enter name to update: \")\n",
    "            new_phone_number = input(\"Enter new phone number: \")\n",
    "            contact_book.update_contact(name, new_phone_number)\n",
    "\n",
    "        elif choice == '6':\n",
    "            name = input(\"Enter name to delete: \")\n",
    "            contact_book.delete_contact(name)\n",
    "\n",
    "        elif choice == '7':\n",
    "            print(\"Exiting Contact Book exit. Goodbye!\")\n",
    "            break\n",
    "\n",
    "        else:\n",
    "            print(\"Invalid choice. Please enter a number from 1 to 7.\")\n",
    "\n",
    "if __name__ == \"__main__\":\n",
    "    main()\n"
   ]
  },
  {
   "cell_type": "code",
   "execution_count": null,
   "id": "9106699e-13cd-49b1-9ea9-5f67ef29011c",
   "metadata": {},
   "outputs": [],
   "source": []
  }
 ],
 "metadata": {
  "kernelspec": {
   "display_name": "Python 3 (ipykernel)",
   "language": "python",
   "name": "python3"
  },
  "language_info": {
   "codemirror_mode": {
    "name": "ipython",
    "version": 3
   },
   "file_extension": ".py",
   "mimetype": "text/x-python",
   "name": "python",
   "nbconvert_exporter": "python",
   "pygments_lexer": "ipython3",
   "version": "3.11.7"
  }
 },
 "nbformat": 4,
 "nbformat_minor": 5
}
