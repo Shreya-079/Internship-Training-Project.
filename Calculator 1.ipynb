{
 "cells": [
  {
   "cell_type": "code",
   "execution_count": 6,
   "id": "4bd07027-81cd-430b-baa0-6ebe3ac2ad52",
   "metadata": {},
   "outputs": [
    {
     "name": "stdout",
     "output_type": "stream",
     "text": [
      "1 - Add\n",
      "2 - Subtract\n",
      "3 - Multiply\n",
      "4 - Divide\n"
     ]
    },
    {
     "name": "stdin",
     "output_type": "stream",
     "text": [
      "Choose the operator 5\n"
     ]
    },
    {
     "name": "stdout",
     "output_type": "stream",
     "text": [
      "Please enter the valid Operation ! \n",
      "The result of the operation is 0\n"
     ]
    }
   ],
   "source": [
    "print(\"1 - Add\")\n",
    "print(\"2 - Subtract\")\n",
    "print(\"3 - Multiply\")\n",
    "print(\"4 - Divide\")\n",
    "a=int(input(\"Choose the operator\"))\n",
    "result=0\n",
    "if(a in [1,2,3,4]):\n",
    "    num1=float(input(\"Enter the first num: \"))\n",
    "    num2=float(input(\"Enter the second num: \"))\n",
    "    if(a == 1):\n",
    "        result=num1 + num2\n",
    "    elif(a == 2):\n",
    "        result = num1 - num2\n",
    "    elif(a == 3):\n",
    "        result = num1 * num2\n",
    "    elif(a == 4):\n",
    "        result = num1 / num2\n",
    "else:\n",
    "    print(\"Please enter the valid Operation ! \")\n",
    "print(\"The result of the operation is {}\".format(result))\n",
    "\n"
   ]
  }
 ],
 "metadata": {
  "kernelspec": {
   "display_name": "Python 3 (ipykernel)",
   "language": "python",
   "name": "python3"
  },
  "language_info": {
   "codemirror_mode": {
    "name": "ipython",
    "version": 3
   },
   "file_extension": ".py",
   "mimetype": "text/x-python",
   "name": "python",
   "nbconvert_exporter": "python",
   "pygments_lexer": "ipython3",
   "version": "3.11.7"
  }
 },
 "nbformat": 4,
 "nbformat_minor": 5
}
